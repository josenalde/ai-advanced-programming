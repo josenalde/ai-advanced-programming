{
 "cells": [
  {
   "cell_type": "markdown",
   "id": "dff7c907",
   "metadata": {},
   "source": [
    "#### Tarefa **Supervisionada** de CLASSIFICAÇÃO de Espécie de Flor IRIS, a partir de medidas (cm) de sua pétala e de sua sépala\n",
    "*neste caso o dataset possui 4 variáveis de decisão (x, espessura (width) e comprimento (length)), denominadas em IA de características ou features.*"
   ]
  },
  {
   "cell_type": "markdown",
   "id": "3b7096b3",
   "metadata": {},
   "source": [
    "<img src='img/irisimg.png' width=80%></img>"
   ]
  },
  {
   "cell_type": "code",
   "execution_count": null,
   "id": "dbcd6a28",
   "metadata": {},
   "outputs": [
    {
     "data": {
      "text/html": [
       "<div>\n",
       "<style scoped>\n",
       "    .dataframe tbody tr th:only-of-type {\n",
       "        vertical-align: middle;\n",
       "    }\n",
       "\n",
       "    .dataframe tbody tr th {\n",
       "        vertical-align: top;\n",
       "    }\n",
       "\n",
       "    .dataframe thead th {\n",
       "        text-align: right;\n",
       "    }\n",
       "</style>\n",
       "<table border=\"1\" class=\"dataframe\">\n",
       "  <thead>\n",
       "    <tr style=\"text-align: right;\">\n",
       "      <th></th>\n",
       "      <th>Id</th>\n",
       "      <th>SepalLengthCm</th>\n",
       "      <th>SepalWidthCm</th>\n",
       "      <th>PetalLengthCm</th>\n",
       "      <th>PetalWidthCm</th>\n",
       "      <th>Species</th>\n",
       "    </tr>\n",
       "  </thead>\n",
       "  <tbody>\n",
       "    <tr>\n",
       "      <th>0</th>\n",
       "      <td>1</td>\n",
       "      <td>5.1</td>\n",
       "      <td>3.5</td>\n",
       "      <td>1.4</td>\n",
       "      <td>0.2</td>\n",
       "      <td>Iris-setosa</td>\n",
       "    </tr>\n",
       "    <tr>\n",
       "      <th>1</th>\n",
       "      <td>2</td>\n",
       "      <td>4.9</td>\n",
       "      <td>3.0</td>\n",
       "      <td>1.4</td>\n",
       "      <td>0.2</td>\n",
       "      <td>Iris-setosa</td>\n",
       "    </tr>\n",
       "    <tr>\n",
       "      <th>2</th>\n",
       "      <td>3</td>\n",
       "      <td>4.7</td>\n",
       "      <td>3.2</td>\n",
       "      <td>1.3</td>\n",
       "      <td>0.2</td>\n",
       "      <td>Iris-setosa</td>\n",
       "    </tr>\n",
       "    <tr>\n",
       "      <th>3</th>\n",
       "      <td>4</td>\n",
       "      <td>4.6</td>\n",
       "      <td>3.1</td>\n",
       "      <td>1.5</td>\n",
       "      <td>0.2</td>\n",
       "      <td>Iris-setosa</td>\n",
       "    </tr>\n",
       "    <tr>\n",
       "      <th>4</th>\n",
       "      <td>5</td>\n",
       "      <td>5.0</td>\n",
       "      <td>3.6</td>\n",
       "      <td>1.4</td>\n",
       "      <td>0.2</td>\n",
       "      <td>Iris-setosa</td>\n",
       "    </tr>\n",
       "  </tbody>\n",
       "</table>\n",
       "</div>"
      ],
      "text/plain": [
       "   Id  SepalLengthCm  SepalWidthCm  PetalLengthCm  PetalWidthCm      Species\n",
       "0   1            5.1           3.5            1.4           0.2  Iris-setosa\n",
       "1   2            4.9           3.0            1.4           0.2  Iris-setosa\n",
       "2   3            4.7           3.2            1.3           0.2  Iris-setosa\n",
       "3   4            4.6           3.1            1.5           0.2  Iris-setosa\n",
       "4   5            5.0           3.6            1.4           0.2  Iris-setosa"
      ]
     },
     "execution_count": 1,
     "metadata": {},
     "output_type": "execute_result"
    }
   ],
   "source": [
    "import pandas as pd\n",
    "import seaborn as sb \n",
    "df = pd.read_csv('datasets/iris.csv')\n",
    "df.head()"
   ]
  },
  {
   "cell_type": "code",
   "execution_count": 2,
   "id": "9d6f7c80",
   "metadata": {},
   "outputs": [
    {
     "name": "stdout",
     "output_type": "stream",
     "text": [
      "<class 'pandas.core.frame.DataFrame'>\n",
      "RangeIndex: 150 entries, 0 to 149\n",
      "Data columns (total 6 columns):\n",
      " #   Column         Non-Null Count  Dtype  \n",
      "---  ------         --------------  -----  \n",
      " 0   Id             150 non-null    int64  \n",
      " 1   SepalLengthCm  150 non-null    float64\n",
      " 2   SepalWidthCm   150 non-null    float64\n",
      " 3   PetalLengthCm  150 non-null    float64\n",
      " 4   PetalWidthCm   150 non-null    float64\n",
      " 5   Species        150 non-null    object \n",
      "dtypes: float64(4), int64(1), object(1)\n",
      "memory usage: 7.2+ KB\n"
     ]
    }
   ],
   "source": [
    "df.info()"
   ]
  },
  {
   "cell_type": "code",
   "execution_count": 4,
   "id": "7d2c2e47",
   "metadata": {},
   "outputs": [
    {
     "data": {
      "text/plain": [
       "array(['Iris-setosa', 'Iris-versicolor', 'Iris-virginica'], dtype=object)"
      ]
     },
     "execution_count": 4,
     "metadata": {},
     "output_type": "execute_result"
    }
   ],
   "source": [
    "df['Species'].unique()"
   ]
  },
  {
   "cell_type": "markdown",
   "id": "649a01ca",
   "metadata": {},
   "source": [
    "Para o OneFeatureRule vimos que podemos operar com dados categóricos, então não iremos alterar a coluna Species agora. Vamos obter a faixa de variação de cada medida contínua, a fim de criarmos classes (quartis) que serão usados, tal como fizemos no exemplo dos pinguins"
   ]
  },
  {
   "cell_type": "code",
   "execution_count": 6,
   "id": "96f07b7d",
   "metadata": {},
   "outputs": [
    {
     "data": {
      "text/html": [
       "<div>\n",
       "<style scoped>\n",
       "    .dataframe tbody tr th:only-of-type {\n",
       "        vertical-align: middle;\n",
       "    }\n",
       "\n",
       "    .dataframe tbody tr th {\n",
       "        vertical-align: top;\n",
       "    }\n",
       "\n",
       "    .dataframe thead th {\n",
       "        text-align: right;\n",
       "    }\n",
       "</style>\n",
       "<table border=\"1\" class=\"dataframe\">\n",
       "  <thead>\n",
       "    <tr style=\"text-align: right;\">\n",
       "      <th></th>\n",
       "      <th>Id</th>\n",
       "      <th>SepalLengthCm</th>\n",
       "      <th>SepalWidthCm</th>\n",
       "      <th>PetalLengthCm</th>\n",
       "      <th>PetalWidthCm</th>\n",
       "    </tr>\n",
       "  </thead>\n",
       "  <tbody>\n",
       "    <tr>\n",
       "      <th>count</th>\n",
       "      <td>150.000000</td>\n",
       "      <td>150.000000</td>\n",
       "      <td>150.000000</td>\n",
       "      <td>150.000000</td>\n",
       "      <td>150.000000</td>\n",
       "    </tr>\n",
       "    <tr>\n",
       "      <th>mean</th>\n",
       "      <td>75.500000</td>\n",
       "      <td>5.843333</td>\n",
       "      <td>3.054000</td>\n",
       "      <td>3.758667</td>\n",
       "      <td>1.198667</td>\n",
       "    </tr>\n",
       "    <tr>\n",
       "      <th>std</th>\n",
       "      <td>43.445368</td>\n",
       "      <td>0.828066</td>\n",
       "      <td>0.433594</td>\n",
       "      <td>1.764420</td>\n",
       "      <td>0.763161</td>\n",
       "    </tr>\n",
       "    <tr>\n",
       "      <th>min</th>\n",
       "      <td>1.000000</td>\n",
       "      <td>4.300000</td>\n",
       "      <td>2.000000</td>\n",
       "      <td>1.000000</td>\n",
       "      <td>0.100000</td>\n",
       "    </tr>\n",
       "    <tr>\n",
       "      <th>25%</th>\n",
       "      <td>38.250000</td>\n",
       "      <td>5.100000</td>\n",
       "      <td>2.800000</td>\n",
       "      <td>1.600000</td>\n",
       "      <td>0.300000</td>\n",
       "    </tr>\n",
       "    <tr>\n",
       "      <th>50%</th>\n",
       "      <td>75.500000</td>\n",
       "      <td>5.800000</td>\n",
       "      <td>3.000000</td>\n",
       "      <td>4.350000</td>\n",
       "      <td>1.300000</td>\n",
       "    </tr>\n",
       "    <tr>\n",
       "      <th>75%</th>\n",
       "      <td>112.750000</td>\n",
       "      <td>6.400000</td>\n",
       "      <td>3.300000</td>\n",
       "      <td>5.100000</td>\n",
       "      <td>1.800000</td>\n",
       "    </tr>\n",
       "    <tr>\n",
       "      <th>max</th>\n",
       "      <td>150.000000</td>\n",
       "      <td>7.900000</td>\n",
       "      <td>4.400000</td>\n",
       "      <td>6.900000</td>\n",
       "      <td>2.500000</td>\n",
       "    </tr>\n",
       "  </tbody>\n",
       "</table>\n",
       "</div>"
      ],
      "text/plain": [
       "               Id  SepalLengthCm  SepalWidthCm  PetalLengthCm  PetalWidthCm\n",
       "count  150.000000     150.000000    150.000000     150.000000    150.000000\n",
       "mean    75.500000       5.843333      3.054000       3.758667      1.198667\n",
       "std     43.445368       0.828066      0.433594       1.764420      0.763161\n",
       "min      1.000000       4.300000      2.000000       1.000000      0.100000\n",
       "25%     38.250000       5.100000      2.800000       1.600000      0.300000\n",
       "50%     75.500000       5.800000      3.000000       4.350000      1.300000\n",
       "75%    112.750000       6.400000      3.300000       5.100000      1.800000\n",
       "max    150.000000       7.900000      4.400000       6.900000      2.500000"
      ]
     },
     "execution_count": 6,
     "metadata": {},
     "output_type": "execute_result"
    }
   ],
   "source": [
    "df.describe()"
   ]
  },
  {
   "cell_type": "code",
   "execution_count": 8,
   "id": "804a03d2",
   "metadata": {},
   "outputs": [
    {
     "name": "stdout",
     "output_type": "stream",
     "text": [
      "SepalLengthCm\n",
      "(4.2, 5.0]    32\n",
      "(5.0, 5.6]    33\n",
      "(5.6, 6.1]    30\n",
      "(6.1, 6.5]    25\n",
      "(6.5, 7.9]    30\n",
      "Name: count, dtype: int64\n",
      "SepalWidthCm\n",
      "(1.9, 2.7]    33\n",
      "(2.7, 3.0]    50\n",
      "(3.0, 3.1]    12\n",
      "(3.1, 3.4]    31\n",
      "(3.4, 4.4]    24\n",
      "Name: count, dtype: int64\n",
      "PetalLengthCm\n",
      "(0.9, 1.5]    37\n",
      "(1.5, 3.9]    24\n",
      "(3.9, 4.6]    29\n",
      "(4.6, 5.3]    30\n",
      "(5.3, 6.9]    30\n",
      "Name: count, dtype: int64\n",
      "PetalWidthCm\n",
      "(0.0, 0.2]    34\n",
      "(0.2, 1.2]    26\n",
      "(1.2, 1.5]    38\n",
      "(1.5, 1.9]    23\n",
      "(1.9, 2.5]    29\n",
      "Name: count, dtype: int64\n"
     ]
    }
   ],
   "source": [
    "quartiles = 5\n",
    "\n",
    "sepal_length_range = pd.qcut(df['SepalLengthCm'], quartiles, precision=1) \n",
    "sepal_length_cat = pd.qcut(df['SepalLengthCm'], quartiles, labels=False, precision=1)\n",
    "df['sepal_length_range'] = sepal_length_range\n",
    "print(sepal_length_range.value_counts(sort=False))\n",
    "index_sepal_length_cat = sepal_length_range.value_counts(sort=False).index\n",
    "df['sepal_length_cat'] = sepal_length_cat\n",
    "\n",
    "sepal_width_range = pd.qcut(df['SepalWidthCm'], quartiles, precision=1)\n",
    "sepal_width_cat = pd.qcut(df['SepalWidthCm'], quartiles, labels=False, precision=1)\n",
    "df['sepal_width_range'] = sepal_width_range\n",
    "print(sepal_width_range.value_counts(sort=False))\n",
    "index_sepal_width_cat = sepal_width_range.value_counts(sort=False).index\n",
    "df['sepal_width_cat'] = sepal_width_cat\n",
    "\n",
    "petal_length_range = pd.qcut(df['PetalLengthCm'], quartiles, precision=1)\n",
    "petal_length_cat = pd.qcut(df['PetalLengthCm'], quartiles, labels=False, precision=1)\n",
    "df['petal_length_range'] = petal_length_range\n",
    "print(petal_length_range.value_counts(sort=False))\n",
    "index_petal_length_cat = petal_length_range.value_counts(sort=False).index\n",
    "df['petal_length_cat'] = petal_length_cat\n",
    "\n",
    "petal_width_range = pd.qcut(df['PetalWidthCm'], quartiles, precision=1)\n",
    "petal_width_cat = pd.qcut(df['PetalWidthCm'], quartiles, labels=False, precision=1)\n",
    "df['petal_width_range'] = petal_width_range\n",
    "print(petal_width_range.value_counts(sort=False))\n",
    "index_petal_width_cat = petal_width_range.value_counts(sort=False).index\n",
    "df['petal_width_cat'] = petal_width_cat"
   ]
  },
  {
   "cell_type": "code",
   "execution_count": 10,
   "id": "843b1977",
   "metadata": {},
   "outputs": [
    {
     "data": {
      "text/html": [
       "<div>\n",
       "<style scoped>\n",
       "    .dataframe tbody tr th:only-of-type {\n",
       "        vertical-align: middle;\n",
       "    }\n",
       "\n",
       "    .dataframe tbody tr th {\n",
       "        vertical-align: top;\n",
       "    }\n",
       "\n",
       "    .dataframe thead th {\n",
       "        text-align: right;\n",
       "    }\n",
       "</style>\n",
       "<table border=\"1\" class=\"dataframe\">\n",
       "  <thead>\n",
       "    <tr style=\"text-align: right;\">\n",
       "      <th></th>\n",
       "      <th>Id</th>\n",
       "      <th>SepalLengthCm</th>\n",
       "      <th>SepalWidthCm</th>\n",
       "      <th>PetalLengthCm</th>\n",
       "      <th>PetalWidthCm</th>\n",
       "      <th>Species</th>\n",
       "      <th>sepal_length_range</th>\n",
       "      <th>sepal_length_cat</th>\n",
       "      <th>sepal_width_range</th>\n",
       "      <th>sepal_width_cat</th>\n",
       "      <th>petal_length_range</th>\n",
       "      <th>petal_length_cat</th>\n",
       "      <th>petal_width_range</th>\n",
       "      <th>petal_width_cat</th>\n",
       "    </tr>\n",
       "  </thead>\n",
       "  <tbody>\n",
       "    <tr>\n",
       "      <th>147</th>\n",
       "      <td>148</td>\n",
       "      <td>6.5</td>\n",
       "      <td>3.0</td>\n",
       "      <td>5.2</td>\n",
       "      <td>2.0</td>\n",
       "      <td>Iris-virginica</td>\n",
       "      <td>(6.1, 6.5]</td>\n",
       "      <td>3</td>\n",
       "      <td>(2.7, 3.0]</td>\n",
       "      <td>1</td>\n",
       "      <td>(4.6, 5.3]</td>\n",
       "      <td>3</td>\n",
       "      <td>(1.9, 2.5]</td>\n",
       "      <td>4</td>\n",
       "    </tr>\n",
       "    <tr>\n",
       "      <th>148</th>\n",
       "      <td>149</td>\n",
       "      <td>6.2</td>\n",
       "      <td>3.4</td>\n",
       "      <td>5.4</td>\n",
       "      <td>2.3</td>\n",
       "      <td>Iris-virginica</td>\n",
       "      <td>(6.1, 6.5]</td>\n",
       "      <td>3</td>\n",
       "      <td>(3.1, 3.4]</td>\n",
       "      <td>3</td>\n",
       "      <td>(5.3, 6.9]</td>\n",
       "      <td>4</td>\n",
       "      <td>(1.9, 2.5]</td>\n",
       "      <td>4</td>\n",
       "    </tr>\n",
       "    <tr>\n",
       "      <th>149</th>\n",
       "      <td>150</td>\n",
       "      <td>5.9</td>\n",
       "      <td>3.0</td>\n",
       "      <td>5.1</td>\n",
       "      <td>1.8</td>\n",
       "      <td>Iris-virginica</td>\n",
       "      <td>(5.6, 6.1]</td>\n",
       "      <td>2</td>\n",
       "      <td>(2.7, 3.0]</td>\n",
       "      <td>1</td>\n",
       "      <td>(4.6, 5.3]</td>\n",
       "      <td>3</td>\n",
       "      <td>(1.5, 1.9]</td>\n",
       "      <td>3</td>\n",
       "    </tr>\n",
       "  </tbody>\n",
       "</table>\n",
       "</div>"
      ],
      "text/plain": [
       "      Id  SepalLengthCm  SepalWidthCm  PetalLengthCm  PetalWidthCm  \\\n",
       "147  148            6.5           3.0            5.2           2.0   \n",
       "148  149            6.2           3.4            5.4           2.3   \n",
       "149  150            5.9           3.0            5.1           1.8   \n",
       "\n",
       "            Species sepal_length_range  sepal_length_cat sepal_width_range  \\\n",
       "147  Iris-virginica         (6.1, 6.5]                 3        (2.7, 3.0]   \n",
       "148  Iris-virginica         (6.1, 6.5]                 3        (3.1, 3.4]   \n",
       "149  Iris-virginica         (5.6, 6.1]                 2        (2.7, 3.0]   \n",
       "\n",
       "     sepal_width_cat petal_length_range  petal_length_cat petal_width_range  \\\n",
       "147                1         (4.6, 5.3]                 3        (1.9, 2.5]   \n",
       "148                3         (5.3, 6.9]                 4        (1.9, 2.5]   \n",
       "149                1         (4.6, 5.3]                 3        (1.5, 1.9]   \n",
       "\n",
       "     petal_width_cat  \n",
       "147                4  \n",
       "148                4  \n",
       "149                3  "
      ]
     },
     "execution_count": 10,
     "metadata": {},
     "output_type": "execute_result"
    }
   ],
   "source": [
    "df.tail(3)"
   ]
  },
  {
   "cell_type": "markdown",
   "id": "92060d80",
   "metadata": {},
   "source": [
    "Este é o dataframe processado e completo, mas para o algoritmo OneFeatureRule, vamos deixar apenas as colunas numéricas com classes, pois a target é a espécie (y), que está categórica"
   ]
  },
  {
   "cell_type": "code",
   "execution_count": 12,
   "id": "ec74d107",
   "metadata": {},
   "outputs": [],
   "source": [
    "features = ['sepal_length_cat', 'sepal_width_cat', 'petal_length_cat','petal_width_cat']\n",
    "X = df[features]\n",
    "y = df['Species']"
   ]
  },
  {
   "cell_type": "code",
   "execution_count": 13,
   "id": "6c5eaae0",
   "metadata": {},
   "outputs": [
    {
     "name": "stdout",
     "output_type": "stream",
     "text": [
      "[{'feature': 'sepal_length_cat', 'accuracy': 0.69, 'rules': {0: 'Iris-setosa', 1: 'Iris-setosa', 2: 'Iris-versicolor', 3: 'Iris-virginica', 4: 'Iris-virginica'}}, {'feature': 'sepal_width_cat', 'accuracy': 0.57, 'rules': {0: 'Iris-versicolor', 1: 'Iris-virginica', 2: 'Iris-setosa', 3: 'Iris-setosa', 4: 'Iris-setosa'}}, {'feature': 'petal_length_cat', 'accuracy': 0.85, 'rules': {0: 'Iris-setosa', 1: 'Iris-setosa', 2: 'Iris-versicolor', 3: 'Iris-virginica', 4: 'Iris-virginica'}}, {'feature': 'petal_width_cat', 'accuracy': 0.88, 'rules': {0: 'Iris-setosa', 1: 'Iris-setosa', 2: 'Iris-versicolor', 3: 'Iris-virginica', 4: 'Iris-virginica'}}]\n",
      "0.69\n",
      "0.57\n",
      "0.85\n",
      "0.88\n",
      "Melhor variavel de decisão para seus dados: petal_width_cat\n"
     ]
    }
   ],
   "source": [
    "from modules.OneFeatureRule import OneFeatureRule\n",
    "\n",
    "clf = OneFeatureRule()\n",
    "results = clf.fit(X, y)\n",
    "print(results)\n",
    "#arredondando acurácia para imprimir\n",
    "print('%.2f' % results[0]['accuracy'])\n",
    "print('%.2f' % results[1]['accuracy'])\n",
    "print('%.2f' % results[2]['accuracy'])\n",
    "print('%.2f' % results[3]['accuracy'])\n",
    "print(clf)"
   ]
  },
  {
   "cell_type": "code",
   "execution_count": 14,
   "id": "3d1c4a5f",
   "metadata": {},
   "outputs": [],
   "source": [
    "def generateRuleFile(filepath):\n",
    "    #as regras são por sua vez um dicionário com keys (features categóricas) e valores (coluna target)\n",
    "    rule_dict = results[clf.ideal_variable_index]['rules']\n",
    "\n",
    "    winner_rules = []\n",
    "    for k,v in rule_dict.items():\n",
    "        auto_index_var = 'index_' + str(clf.ideal_variable)\n",
    "        winner_rules.append('if ' + clf.ideal_variable + ' in range: ' + str(globals()[auto_index_var][k]) + ' then target == ' + v)\n",
    "\n",
    "\n",
    "    for i in range(len(winner_rules)):\n",
    "        print(winner_rules[i])\n",
    "        with open(filepath, 'a') as f:\n",
    "            f.write(winner_rules[i] + '\\n')"
   ]
  },
  {
   "cell_type": "code",
   "execution_count": 15,
   "id": "eb61beac",
   "metadata": {},
   "outputs": [
    {
     "name": "stdout",
     "output_type": "stream",
     "text": [
      "if petal_width_cat in range: (0.0, 0.2] then target == Iris-setosa\n",
      "if petal_width_cat in range: (0.2, 1.2] then target == Iris-setosa\n",
      "if petal_width_cat in range: (1.2, 1.5] then target == Iris-versicolor\n",
      "if petal_width_cat in range: (1.5, 1.9] then target == Iris-virginica\n",
      "if petal_width_cat in range: (1.9, 2.5] then target == Iris-virginica\n"
     ]
    }
   ],
   "source": [
    "generateRuleFile('rules_iris.txt')"
   ]
  }
 ],
 "metadata": {
  "kernelspec": {
   "display_name": "tadsml",
   "language": "python",
   "name": "python3"
  },
  "language_info": {
   "codemirror_mode": {
    "name": "ipython",
    "version": 3
   },
   "file_extension": ".py",
   "mimetype": "text/x-python",
   "name": "python",
   "nbconvert_exporter": "python",
   "pygments_lexer": "ipython3",
   "version": "3.12.7"
  }
 },
 "nbformat": 4,
 "nbformat_minor": 5
}
