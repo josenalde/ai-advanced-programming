{
 "cells": [
  {
   "cell_type": "code",
   "execution_count": 4,
   "id": "f0f0cad1",
   "metadata": {},
   "outputs": [],
   "source": [
    "X = [ [\"p\", \"1\"],\n",
    "      [\"p\", \"2\"],\n",
    "      [\"p\", \"3\"],\n",
    "      [\"m\", \"1\"],\n",
    "      [\"m\", \"2\"],\n",
    "      [\"m\", \"3\"],\n",
    "      [\"g\", \"1\"],\n",
    "      [\"g\", \"1\"],\n",
    "      ]\n",
    "\n",
    "y = [\"s\", \"s\", \"n\",\n",
    "     \"n\", \"s\", \"n\",\n",
    "     \"s\", \"s\"]"
   ]
  },
  {
   "cell_type": "code",
   "execution_count": 9,
   "id": "2ef19fe2",
   "metadata": {},
   "outputs": [
    {
     "name": "stdout",
     "output_type": "stream",
     "text": [
      "[{'feature': 'tamanho', 'accuracy': 0.75, 'rules': {'g': 's', 'm': 'n', 'p': 's'}}, {'feature': 'quantidade', 'accuracy': 0.875, 'rules': {'1': 's', '2': 's', '3': 'n'}}]\n",
      "Melhor variavel de decisão para seus dados: quantidade\n"
     ]
    }
   ],
   "source": [
    "from modules.OneFeatureRule import OneFeatureRule\n",
    "\n",
    "clf = OneFeatureRule()\n",
    "results = clf.fit(X, y)\n",
    "\n",
    "print(results)\n",
    "print(clf)"
   ]
  },
  {
   "cell_type": "code",
   "execution_count": null,
   "id": "053b83fe",
   "metadata": {},
   "outputs": [],
   "source": [
    "import pandas as pd\n",
    "data = pd.read_csv('data/mushrooms.csv') #https://archive.ics.uci.edu/ml/datasets/mushroom\n",
    "y_mush = data['type']\n",
    "\n",
    "x_mush = data.loc[:,'cap_shape':]\n",
    "\n",
    "clf_mush = OneFeatureRule()\n",
    "results = clf_mush.fit(x_mush, y_mush)\n",
    "\n",
    "print(clf_mush)"
   ]
  },
  {
   "cell_type": "code",
   "execution_count": null,
   "id": "fbcf3886",
   "metadata": {},
   "outputs": [],
   "source": [
    "import numpy as np\n",
    "from sklearn.model_selection import train_test_split\n",
    "\n",
    "data = pd.read_csv('data/mushrooms.csv')\n",
    "\n",
    "num = 10\n",
    "clf_mush_cv = OneFeatureRule()\n",
    "accuracy_items = list()\n",
    "\n",
    "for i in range(num):\n",
    "    \n",
    "    x_train, x_test, y_train, y_test = train_test_split(\n",
    "        x_mush, y_mush,\n",
    "        test_size=2,\n",
    "        random_state=42)\n",
    "\n",
    "    clf_mush_cv.fit(x_train, y_train)\n",
    "    accuracy_items.append(clf_mush_cv.max_accuracy)\n",
    "\n",
    "print(sum(accuracy_items) / num)"
   ]
  }
 ],
 "metadata": {
  "kernelspec": {
   "display_name": "tadsml",
   "language": "python",
   "name": "python3"
  },
  "language_info": {
   "codemirror_mode": {
    "name": "ipython",
    "version": 3
   },
   "file_extension": ".py",
   "mimetype": "text/x-python",
   "name": "python",
   "nbconvert_exporter": "python",
   "pygments_lexer": "ipython3",
   "version": "3.12.7"
  }
 },
 "nbformat": 4,
 "nbformat_minor": 5
}
