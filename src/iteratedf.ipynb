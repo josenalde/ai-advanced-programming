{
 "cells": [
  {
   "cell_type": "markdown",
   "id": "831e50d0",
   "metadata": {},
   "source": [
    "### Exemplo de código para iterar sobre dataframe. Vamos supor construí-lo a partir de um dicionário"
   ]
  },
  {
   "cell_type": "code",
   "execution_count": 23,
   "id": "fa2f1e36",
   "metadata": {},
   "outputs": [],
   "source": [
    "aluno = {\n",
    "  'cpf': ['025', '111', '021','342','027','149','222','999'],\n",
    "  'nome': ['joao','maria','pedro','gustavo','davi','solange','ana','larissa'],\n",
    "  'idade': [16, 15, 18,17,18,20,16,18],\n",
    "  'area': ['humanas','humanas','biomedica','tecnologica','biomedica','tecnologica','tecnologica','humanas']\n",
    "}"
   ]
  },
  {
   "cell_type": "code",
   "execution_count": 8,
   "id": "c9d23f2a",
   "metadata": {},
   "outputs": [
    {
     "name": "stdout",
     "output_type": "stream",
     "text": [
      "<class 'dict'>\n"
     ]
    }
   ],
   "source": [
    "print(type(aluno)) #dicionario python"
   ]
  },
  {
   "cell_type": "code",
   "execution_count": 2,
   "id": "96107d17",
   "metadata": {},
   "outputs": [],
   "source": [
    "import pandas as pd"
   ]
  },
  {
   "cell_type": "code",
   "execution_count": 24,
   "id": "2e5d8bae",
   "metadata": {},
   "outputs": [
    {
     "name": "stdout",
     "output_type": "stream",
     "text": [
      "   cpf     nome  idade         area\n",
      "0  025     joao     16      humanas\n",
      "1  111    maria     15      humanas\n",
      "2  021    pedro     18    biomedica\n",
      "3  342  gustavo     17  tecnologica\n",
      "4  027     davi     18    biomedica\n",
      "5  149  solange     20  tecnologica\n",
      "6  222      ana     16  tecnologica\n",
      "7  999  larissa     18      humanas\n"
     ]
    }
   ],
   "source": [
    "df = pd.DataFrame(data=aluno)\n",
    "print(df)"
   ]
  },
  {
   "cell_type": "code",
   "execution_count": 44,
   "id": "4fc5afa3",
   "metadata": {},
   "outputs": [
    {
     "name": "stdout",
     "output_type": "stream",
     "text": [
      "cpf              025\n",
      "nome            joao\n",
      "idade             16\n",
      "area         humanas\n",
      "age_class        pre\n",
      "Name: 0, dtype: object\n",
      "cpf              111\n",
      "nome           maria\n",
      "idade             15\n",
      "area         humanas\n",
      "age_class        pre\n",
      "Name: 1, dtype: object\n",
      "cpf                021\n",
      "nome             pedro\n",
      "idade               18\n",
      "area         biomedica\n",
      "age_class        jovem\n",
      "Name: 2, dtype: object\n",
      "cpf                  342\n",
      "nome             gustavo\n",
      "idade                 17\n",
      "area         tecnologica\n",
      "age_class    adolescente\n",
      "Name: 3, dtype: object\n",
      "cpf                027\n",
      "nome              davi\n",
      "idade               18\n",
      "area         biomedica\n",
      "age_class        jovem\n",
      "Name: 4, dtype: object\n",
      "cpf                  149\n",
      "nome             solange\n",
      "idade                 20\n",
      "area         tecnologica\n",
      "age_class         adulto\n",
      "Name: 5, dtype: object\n",
      "cpf                  222\n",
      "nome                 ana\n",
      "idade                 16\n",
      "area         tecnologica\n",
      "age_class            pre\n",
      "Name: 6, dtype: object\n",
      "cpf              999\n",
      "nome         larissa\n",
      "idade             18\n",
      "area         humanas\n",
      "age_class      jovem\n",
      "Name: 7, dtype: object\n"
     ]
    }
   ],
   "source": [
    "#k são os indexes (0,1,2,etc.), v são os valores em cada coluna para a linha k. Os tipos são preservados type()\n",
    "for k, v in df.iterrows():\n",
    "    print(v)\n",
    "    #print(type(v[1])) #str NOME\n",
    "    #print(type(v[2])) #int IDADE"
   ]
  },
  {
   "cell_type": "code",
   "execution_count": 41,
   "id": "a53d57e1",
   "metadata": {},
   "outputs": [],
   "source": [
    "age_classes = pd.cut(df['idade'], [14,16,17,19,20], labels=['pre','adolescente','jovem','adulto'])\n"
   ]
  },
  {
   "cell_type": "code",
   "execution_count": 42,
   "id": "ef904516",
   "metadata": {},
   "outputs": [],
   "source": [
    "df['age_class'] = age_classes"
   ]
  },
  {
   "cell_type": "code",
   "execution_count": 43,
   "id": "3b7f77c1",
   "metadata": {},
   "outputs": [
    {
     "data": {
      "text/html": [
       "<div>\n",
       "<style scoped>\n",
       "    .dataframe tbody tr th:only-of-type {\n",
       "        vertical-align: middle;\n",
       "    }\n",
       "\n",
       "    .dataframe tbody tr th {\n",
       "        vertical-align: top;\n",
       "    }\n",
       "\n",
       "    .dataframe thead th {\n",
       "        text-align: right;\n",
       "    }\n",
       "</style>\n",
       "<table border=\"1\" class=\"dataframe\">\n",
       "  <thead>\n",
       "    <tr style=\"text-align: right;\">\n",
       "      <th></th>\n",
       "      <th>cpf</th>\n",
       "      <th>nome</th>\n",
       "      <th>idade</th>\n",
       "      <th>area</th>\n",
       "      <th>age_class</th>\n",
       "    </tr>\n",
       "  </thead>\n",
       "  <tbody>\n",
       "    <tr>\n",
       "      <th>0</th>\n",
       "      <td>025</td>\n",
       "      <td>joao</td>\n",
       "      <td>16</td>\n",
       "      <td>humanas</td>\n",
       "      <td>pre</td>\n",
       "    </tr>\n",
       "    <tr>\n",
       "      <th>1</th>\n",
       "      <td>111</td>\n",
       "      <td>maria</td>\n",
       "      <td>15</td>\n",
       "      <td>humanas</td>\n",
       "      <td>pre</td>\n",
       "    </tr>\n",
       "    <tr>\n",
       "      <th>2</th>\n",
       "      <td>021</td>\n",
       "      <td>pedro</td>\n",
       "      <td>18</td>\n",
       "      <td>biomedica</td>\n",
       "      <td>jovem</td>\n",
       "    </tr>\n",
       "    <tr>\n",
       "      <th>3</th>\n",
       "      <td>342</td>\n",
       "      <td>gustavo</td>\n",
       "      <td>17</td>\n",
       "      <td>tecnologica</td>\n",
       "      <td>adolescente</td>\n",
       "    </tr>\n",
       "    <tr>\n",
       "      <th>4</th>\n",
       "      <td>027</td>\n",
       "      <td>davi</td>\n",
       "      <td>18</td>\n",
       "      <td>biomedica</td>\n",
       "      <td>jovem</td>\n",
       "    </tr>\n",
       "    <tr>\n",
       "      <th>5</th>\n",
       "      <td>149</td>\n",
       "      <td>solange</td>\n",
       "      <td>20</td>\n",
       "      <td>tecnologica</td>\n",
       "      <td>adulto</td>\n",
       "    </tr>\n",
       "    <tr>\n",
       "      <th>6</th>\n",
       "      <td>222</td>\n",
       "      <td>ana</td>\n",
       "      <td>16</td>\n",
       "      <td>tecnologica</td>\n",
       "      <td>pre</td>\n",
       "    </tr>\n",
       "    <tr>\n",
       "      <th>7</th>\n",
       "      <td>999</td>\n",
       "      <td>larissa</td>\n",
       "      <td>18</td>\n",
       "      <td>humanas</td>\n",
       "      <td>jovem</td>\n",
       "    </tr>\n",
       "  </tbody>\n",
       "</table>\n",
       "</div>"
      ],
      "text/plain": [
       "   cpf     nome  idade         area    age_class\n",
       "0  025     joao     16      humanas          pre\n",
       "1  111    maria     15      humanas          pre\n",
       "2  021    pedro     18    biomedica        jovem\n",
       "3  342  gustavo     17  tecnologica  adolescente\n",
       "4  027     davi     18    biomedica        jovem\n",
       "5  149  solange     20  tecnologica       adulto\n",
       "6  222      ana     16  tecnologica          pre\n",
       "7  999  larissa     18      humanas        jovem"
      ]
     },
     "execution_count": 43,
     "metadata": {},
     "output_type": "execute_result"
    }
   ],
   "source": [
    "df"
   ]
  }
 ],
 "metadata": {
  "kernelspec": {
   "display_name": "tadsml",
   "language": "python",
   "name": "python3"
  },
  "language_info": {
   "codemirror_mode": {
    "name": "ipython",
    "version": 3
   },
   "file_extension": ".py",
   "mimetype": "text/x-python",
   "name": "python",
   "nbconvert_exporter": "python",
   "pygments_lexer": "ipython3",
   "version": "3.12.7"
  }
 },
 "nbformat": 4,
 "nbformat_minor": 5
}
